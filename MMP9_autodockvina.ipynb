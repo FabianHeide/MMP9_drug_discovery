{
 "cells": [
  {
   "cell_type": "markdown",
   "id": "d23ec64a",
   "metadata": {},
   "source": [
    "# Small molecule processing and AutoDock Vina analysis"
   ]
  },
  {
   "cell_type": "code",
   "execution_count": 20,
   "id": "feee93f4",
   "metadata": {},
   "outputs": [],
   "source": [
    "import pandas as pd"
   ]
  },
  {
   "cell_type": "code",
   "execution_count": 26,
   "id": "5bdedbbf",
   "metadata": {},
   "outputs": [],
   "source": [
    "#export smiles code for each small molecule into a separate file\n",
    "df1 = pd.read_csv('data/MMP9_sm_activity_proc2.csv')\n",
    "\n",
    "for i, row in df1.iterrows():\n",
    "    with open(f'molecules/sm_{i}.smi', 'w') as output_file:\n",
    "            output_file.write(row['canonical_smiles'])"
   ]
  },
  {
   "cell_type": "markdown",
   "id": "0b3c4e1e",
   "metadata": {},
   "source": [
    "## At this point, the AutoDock Vina process is started (https://vina.scripps.edu/)\n",
    "\n",
    "General process:\n",
    "1. convert small molecule SMILES code into PDBQT format using OpenBabel (http://openbabel.org/wiki/Main_Page)\n",
    "2. prepare protein model of MMP9 in PDBQT format (https://www.rcsb.org/structure/1GKC)\n",
    "3. prepare AutoDock Vina run files\n",
    "4. start AutoDock Vina run\n",
    "\n",
    "Note: general run and output files are available in the repository"
   ]
  },
  {
   "cell_type": "markdown",
   "id": "cbe22d01",
   "metadata": {},
   "source": [
    "# Data processing of AutoDock Vina output files"
   ]
  },
  {
   "cell_type": "code",
   "execution_count": 2,
   "id": "6bfe5458",
   "metadata": {},
   "outputs": [],
   "source": [
    "import os\n",
    "import glob\n",
    "import numpy as np\n",
    "import pandas as pd\n",
    "import seaborn as sns\n",
    "import matplotlib.pyplot as plt"
   ]
  },
  {
   "cell_type": "code",
   "execution_count": null,
   "id": "c8d04594",
   "metadata": {},
   "outputs": [],
   "source": []
  }
 ],
 "metadata": {
  "kernelspec": {
   "display_name": "Python 3 (ipykernel)",
   "language": "python",
   "name": "python3"
  },
  "language_info": {
   "codemirror_mode": {
    "name": "ipython",
    "version": 3
   },
   "file_extension": ".py",
   "mimetype": "text/x-python",
   "name": "python",
   "nbconvert_exporter": "python",
   "pygments_lexer": "ipython3",
   "version": "3.11.2"
  }
 },
 "nbformat": 4,
 "nbformat_minor": 5
}
